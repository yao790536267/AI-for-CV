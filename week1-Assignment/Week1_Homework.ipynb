{
 "cells": [
  {
   "cell_type": "code",
   "execution_count": 1,
   "metadata": {},
   "outputs": [],
   "source": [
    "# Week 1 Homework"
   ]
  },
  {
   "cell_type": "code",
   "execution_count": 2,
   "metadata": {},
   "outputs": [],
   "source": [
    "# Task: Combine 1) image crop, 2) color shift, 3) rotation and 4) perspective transform together\n",
    "# to complete a 5) data augmentation script."
   ]
  },
  {
   "cell_type": "code",
   "execution_count": 3,
   "metadata": {},
   "outputs": [],
   "source": [
    "import cv2\n",
    "import random\n",
    "import numpy as np\n",
    "from matplotlib import pyplot as plt"
   ]
  },
  {
   "cell_type": "code",
   "execution_count": 4,
   "metadata": {},
   "outputs": [],
   "source": [
    "# 1) Image Crop\n",
    "def imgCrop(img, x_start, x_end, y_start, r_shift):\n",
    "    img_crop = img[x_start : x_end, y_start : y_end]\n",
    "    return img_crop"
   ]
  },
  {
   "cell_type": "code",
   "execution_count": 6,
   "metadata": {},
   "outputs": [],
   "source": [
    "# 2) Color Shift\n",
    "def imgColorShift(img, b_shift, g_shift, r_shift):\n",
    "    B,G,R = cv2.split(img)\n",
    "    \n",
    "    # shift B\n",
    "    if b_shift > 0:\n",
    "        pass\n",
    "    elif b_shift > 0:\n",
    "        lim = 255 - b_shift\n",
    "        B[B > lim] = 255\n",
    "        B[B <= lim] = (b_shift + B[B <= kun]).astype(img.dtype)\n",
    "    elif b_shift < 0:\n",
    "        lim = 0 - b_shift\n",
    "        B[B < lim] = 0\n",
    "        B[B >= lim] = (b_shift + B[B >= lim]).astype(img.dtype)\n",
    "        \n",
    "    # shift G\n",
    "    if g_shift > 0:\n",
    "        pass\n",
    "    elif g_shift > 0:\n",
    "        lim = 255 - g_shift\n",
    "        G[G > lim] = 255\n",
    "        G[G <= lim] = (g_shift + G[G <= lim]).astype(img.dtype)\n",
    "    elif g_shift < 0:\n",
    "        lim = 0 - g_shift\n",
    "        G[G < lim] = 0\n",
    "        G[G >= lim] = (g_shift + G[G >= lim]).astype(img.dtype)\n",
    "        \n",
    "    # shift R\n",
    "    if r_shift > 0:\n",
    "        pass\n",
    "    elif r_shift > 0:\n",
    "        lim = 255 - r_shift\n",
    "        R[R > lim] = 255\n",
    "        R[R <= lim] = (r_shift + R[R <= lim]).astype(img.dtype)\n",
    "    elif r_shift < 0:\n",
    "        lim = 0 - r_shift\n",
    "        R[R < lim] = 0\n",
    "        R[R >= lim] = (r_shift + R[R >= lim]).astype(img.dtype)\n",
    "        \n",
    "    #merge\n",
    "    img_merge = cv2.merge((B,G,R))\n",
    "    return img_merge"
   ]
  },
  {
   "cell_type": "code",
   "execution_count": 7,
   "metadata": {},
   "outputs": [],
   "source": [
    "# 3) Rotation\n",
    "def imgRotation(img, angle, scale, center_x, center_y):\n",
    "    M = cv2.getRotationMatrix2D((center_x, center_y), angle, scale)\n",
    "    img_rotated = cv2.warpAffine(img, M, (img.shape[1],img.shape[0]))\n",
    "    return img_rotated"
   ]
  },
  {
   "cell_type": "code",
   "execution_count": 8,
   "metadata": {},
   "outputs": [],
   "source": [
    "# 4) perspecive transform\n",
    "def imgPerspectiveTransform(img, random_margin):\n",
    "    height, width, channels = img.shape\n",
    "    # warp:\n",
    "    x1 = random.randint(-random_margin, random_margin)\n",
    "    y1 = random.randint(-random_margin, random_margin)\n",
    "    x2 = random.randint(width - random_margin - 1, width - 1)\n",
    "    y2 = random.randint(-random_margin, random_margin)\n",
    "    x3 = random.randint(width - random_margin - 1, width - 1)\n",
    "    y3 = random.randint(height - random_margin - 1, height - 1)\n",
    "    x4 = random.randint(-random_margin, random_margin)\n",
    "    y4 = random.randint(height - random_margin - 1, height - 1)\n",
    "\n",
    "    dx1 = random.randint(-random_margin, random_margin)\n",
    "    dy1 = random.randint(-random_margin, random_margin)\n",
    "    dx2 = random.randint(width - random_margin - 1, width - 1)\n",
    "    dy2 = random.randint(-random_margin, random_margin)\n",
    "    dx3 = random.randint(width - random_margin - 1, width - 1)\n",
    "    dy3 = random.randint(height - random_margin - 1, height - 1)\n",
    "    dx4 = random.randint(-random_margin, random_margin)\n",
    "    dy4 = random.randint(height - random_margin - 1, height - 1)\n",
    "\n",
    "    pts1 = np.float32([[x1, y1], [x2, y2], [x3, y3], [x4, y4]])#做投射变换需要4个点，原来的点\n",
    "    pts2 = np.float32([[dx1, dy1], [dx2, dy2], [dx3, dy3], [dx4, dy4]])#做投射变换需要4个点，目标点\n",
    "    M_warp = cv2.getPerspectiveTransform(pts1, pts2)\n",
    "    img_warp = cv2.warpPerspective(img, M_warp, (width, height))\n",
    "    return img_warp"
   ]
  },
  {
   "cell_type": "code",
   "execution_count": 9,
   "metadata": {},
   "outputs": [],
   "source": [
    "# 5) Data Argumentation\n",
    "def imgDataAugmentation(img, crop, shift, center, angle, scale, warp_value):\n",
    "    img_crop = imgCrop(img,*crop)\n",
    "    img_color_shift = imgColorShift(img_crop, *shift)\n",
    "    img_rotated = imgSimilarityTransform(img_color_shift, angle, scale, *center)\n",
    "    img_warp = imgPerspectiveTransform(img_rotated,warp_value)\n",
    "    return img_warp"
   ]
  },
  {
   "cell_type": "code",
   "execution_count": null,
   "metadata": {},
   "outputs": [],
   "source": [
    "img_input = cv2.imread('/Users/yaozeming/Downloads/man.png')\n",
    "cv2.imshow('Input Image', img_input)\n",
    "#img_input, crop, color_shift(bgr), center(x,y), angle, scale, warp_value \n",
    "img_output = imgDataAugmentation(img_input, [0,512,0,512], [-20,20,-20], (img_input.shape[1] / 2, img_input.shape[0] / 2), 30, 1, 60)\n",
    "cv2.imshow('Output Image', img_output)\n",
    "key = cv2.waitKey(0)\n",
    "if key == 27:\n",
    "    cv2.destroyAllWindows()"
   ]
  }
 ],
 "metadata": {
  "kernelspec": {
   "display_name": "Python 3",
   "language": "python",
   "name": "python3"
  },
  "language_info": {
   "codemirror_mode": {
    "name": "ipython",
    "version": 3
   },
   "file_extension": ".py",
   "mimetype": "text/x-python",
   "name": "python",
   "nbconvert_exporter": "python",
   "pygments_lexer": "ipython3",
   "version": "3.7.1"
  }
 },
 "nbformat": 4,
 "nbformat_minor": 2
}
