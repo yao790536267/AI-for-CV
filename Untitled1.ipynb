{
 "cells": [
  {
   "cell_type": "code",
   "execution_count": 1,
   "metadata": {},
   "outputs": [],
   "source": [
    "import cv2"
   ]
  },
  {
   "cell_type": "code",
   "execution_count": 2,
   "metadata": {},
   "outputs": [],
   "source": [
    "import random\n",
    "import numpy as np"
   ]
  },
  {
   "cell_type": "code",
   "execution_count": 3,
   "metadata": {},
   "outputs": [],
   "source": [
    "img = cv2.imread('/Users/yaozeming/Downloads/man.png')\n",
    "img_gray = cv2.imread('/Users/yaozeming/Downloads/man.png',0)"
   ]
  },
  {
   "cell_type": "code",
   "execution_count": 4,
   "metadata": {},
   "outputs": [
    {
     "name": "stdout",
     "output_type": "stream",
     "text": [
      "[[[243 243 243]\n",
      "  [243 243 243]\n",
      "  [243 243 243]\n",
      "  ...\n",
      "  [243 243 243]\n",
      "  [243 243 243]\n",
      "  [243 243 243]]\n",
      "\n",
      " [[243 243 243]\n",
      "  [243 243 243]\n",
      "  [243 243 243]\n",
      "  ...\n",
      "  [243 243 243]\n",
      "  [243 243 243]\n",
      "  [243 243 243]]\n",
      "\n",
      " [[243 243 243]\n",
      "  [243 243 243]\n",
      "  [243 243 243]\n",
      "  ...\n",
      "  [243 243 243]\n",
      "  [243 243 243]\n",
      "  [243 243 243]]\n",
      "\n",
      " ...\n",
      "\n",
      " [[243 243 243]\n",
      "  [243 243 243]\n",
      "  [243 243 243]\n",
      "  ...\n",
      "  [243 243 243]\n",
      "  [243 243 243]\n",
      "  [243 243 243]]\n",
      "\n",
      " [[243 243 243]\n",
      "  [243 243 243]\n",
      "  [243 243 243]\n",
      "  ...\n",
      "  [243 243 243]\n",
      "  [243 243 243]\n",
      "  [243 243 243]]\n",
      "\n",
      " [[243 243 243]\n",
      "  [243 243 243]\n",
      "  [243 243 243]\n",
      "  ...\n",
      "  [243 243 243]\n",
      "  [243 243 243]\n",
      "  [243 243 243]]]\n"
     ]
    }
   ],
   "source": [
    "cv2.imshow('man',img)\n",
    "key = cv2.waitKey()\n",
    "if key == 27:\n",
    "    cv2.destroyAllWindows()\n",
    "print(img)"
   ]
  },
  {
   "cell_type": "code",
   "execution_count": 10,
   "metadata": {},
   "outputs": [
    {
     "name": "stdout",
     "output_type": "stream",
     "text": [
      "uint8\n",
      "uint8\n",
      "(380, 428, 3)\n",
      "(380, 428)\n"
     ]
    }
   ],
   "source": [
    "print(img.dtype)\n",
    "print(img_gray.dtype)\n",
    "print(img.shape)\n",
    "print(img_gray.shape)"
   ]
  },
  {
   "cell_type": "code",
   "execution_count": 13,
   "metadata": {},
   "outputs": [],
   "source": [
    "# image crop\n",
    "img_crop = img[0:100, 0:200]"
   ]
  },
  {
   "cell_type": "code",
   "execution_count": null,
   "metadata": {},
   "outputs": [],
   "source": [
    "cv2.imshow('img_crop',img_crop)\n",
    "key = cv2.waitKey()\n",
    "if key == 27:\n",
    "    cv2.destroyAllWindows()\n",
    "print(img)"
   ]
  },
  {
   "cell_type": "code",
   "execution_count": null,
   "metadata": {},
   "outputs": [],
   "source": [
    "# color split\n",
    "B,G,R = cv2.split(img)\n",
    "cv2.imshow('B',B)\n",
    "cv2.imshow('G',G)\n",
    "cv2.imshow('R',R)\n",
    "key = cv2.waitKey()\n",
    "if key == 27:\n",
    "    cv2.destroyAllWindow()"
   ]
  },
  {
   "cell_type": "code",
   "execution_count": 4,
   "metadata": {},
   "outputs": [],
   "source": [
    "def random_light_color(img):\n",
    "    # brightness:\n",
    "    B,G,R = cv2.split(img)\n",
    "    \n",
    "    b_rand = random.randint(-50,50)\n",
    "    if b_rand == 0:\n",
    "        pass\n",
    "    elif b_rand > 0:\n",
    "        lim = 255 - b_rand\n",
    "        B[B>lim] =255\n",
    "        B[B <= lim] = (b_rand + B[B <= lim].astype(img.dtype))\n",
    "    elif(b_rand < 0):\n",
    "        lim = 0 - b_rand\n",
    "        B[B < lim] = 0\n",
    "        B[B >= lim] = (b_rand + B[B>=lim]).astype(img.dtype)\n",
    "        \n",
    "    g_rand = random.randint(-50,50)\n",
    "    if g_rand == 0:\n",
    "        pass\n",
    "    elif g_rand > 0:\n",
    "        lim = 255 - g_rand\n",
    "        G[G>lim] =255\n",
    "        G[G <= lim] = (g_rand + G[G <= lim].astype(img.dtype))\n",
    "    elif(g_rand < 0):\n",
    "        lim = 0 - g_rand\n",
    "        G[G < lim] = 0\n",
    "        G[G >= lim] = (g_rand + G[G>=lim]).astype(img.dtype)\n",
    "        \n",
    "    r_rand = random.randint(-50,50)\n",
    "    if r_rand == 0:\n",
    "        pass\n",
    "    elif r_rand > 0:\n",
    "        lim = 255 - r_rand\n",
    "        R[R>lim] =255\n",
    "        R[R <= lim] = (r_rand + R[R <= lim].astype(img.dtype))\n",
    "    elif(r_rand < 0):\n",
    "        lim = 0 - r_rand\n",
    "        R[R < lim] = 0\n",
    "        R[R >= lim] = (r_rand + R[R>=lim]).astype(img.dtype)\n",
    "        \n",
    "        img_merge = cv2.merge((B, G, R))\n",
    "        return img_merge"
   ]
  },
  {
   "cell_type": "code",
   "execution_count": 5,
   "metadata": {},
   "outputs": [],
   "source": [
    "img_random_color = random_light_color(img)"
   ]
  },
  {
   "cell_type": "code",
   "execution_count": 6,
   "metadata": {},
   "outputs": [],
   "source": [
    "cv2.imshow('img_random',img_random_color)\n"
   ]
  },
  {
   "cell_type": "code",
   "execution_count": null,
   "metadata": {},
   "outputs": [],
   "source": []
  }
 ],
 "metadata": {
  "kernelspec": {
   "display_name": "Python 3",
   "language": "python",
   "name": "python3"
  },
  "language_info": {
   "codemirror_mode": {
    "name": "ipython",
    "version": 3
   },
   "file_extension": ".py",
   "mimetype": "text/x-python",
   "name": "python",
   "nbconvert_exporter": "python",
   "pygments_lexer": "ipython3",
   "version": "3.7.1"
  }
 },
 "nbformat": 4,
 "nbformat_minor": 2
}
