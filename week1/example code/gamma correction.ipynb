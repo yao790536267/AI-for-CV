{
 "cells": [
  {
   "cell_type": "code",
   "execution_count": 4,
   "metadata": {},
   "outputs": [],
   "source": [
    "import cv2\n",
    "import matplotlib.pyplot as plt\n",
    "import numpy as np\n",
    "\n",
    "img_dark = cv2.imread('E:/CV/week 1/dark_img.jpg')\n",
    "cv2.imshow('dark_img',img_dark)\n",
    "key = cv2.waitKey()\n",
    "if key == 27:\n",
    "    cv2.destroyALLWindows()\n",
    "\n"
   ]
  },
  {
   "cell_type": "code",
   "execution_count": 8,
   "metadata": {},
   "outputs": [],
   "source": [
    "import cv2\n",
    "import matplotlib.pyplot as plt\n",
    "import numpy as np\n",
    "\n",
    "def adjust_gamma(img, gamma):\n",
    "    invGamma = 1.0/gamma\n",
    "    table = []\n",
    "    for i in range(256):\n",
    "        table.append(((i/255) ** invGamma) * 255) #((i/255) ** invGamma)对应于gamma矫正公式 y= x ** gamma(x [0,1],y [0,1])  最后*255，将其转成灰度值\n",
    "    table = np.array(table).astype(\"uint8\") #将其转化为向量（向量里面的类型为整形）\n",
    "    return cv2. LUT(img_dark, table) #LUT 查表\n",
    "\n",
    "img_brighter = adjust_gamma(img_dark, 2)\n",
    "cv2.imshow('dark_img', img_dark)\n",
    "cv2.imshow('bright_img', img_brighter)\n",
    "\n",
    "key = cv2.waitKey\n",
    "if key == 27:\n",
    "    cv2.destroyALLWindows()"
   ]
  },
  {
   "cell_type": "code",
   "execution_count": null,
   "metadata": {},
   "outputs": [],
   "source": []
  }
 ],
 "metadata": {
  "kernelspec": {
   "display_name": "Python 3",
   "language": "python",
   "name": "python3"
  },
  "language_info": {
   "codemirror_mode": {
    "name": "ipython",
    "version": 3
   },
   "file_extension": ".py",
   "mimetype": "text/x-python",
   "name": "python",
   "nbconvert_exporter": "python",
   "pygments_lexer": "ipython3",
   "version": "3.7.2"
  }
 },
 "nbformat": 4,
 "nbformat_minor": 2
}
