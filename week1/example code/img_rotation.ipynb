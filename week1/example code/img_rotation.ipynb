{
 "cells": [
  {
   "cell_type": "code",
   "execution_count": 2,
   "metadata": {},
   "outputs": [],
   "source": [
    "import cv2\n",
    "import matplotlib.pyplot as plt\n",
    "import numpy as np\n",
    "\n",
    "img = cv2.imread('E:/CV/week 1/lenna.jpg')\n",
    "M = cv2.getRotationMatrix2D((img.shape[1]/2, img.shape[0]/2), 30, 1)\n",
    "img_rotation = cv2.warpAffine(img, M, (img.shape[1], img.shape[0]))\n",
    "\n",
    "cv2.imshow('img_rotation', img_rotation)\n",
    "key = cv2.waitKey\n",
    "if key == 27:\n",
    "    cv2.destroyALLWindows()\n"
   ]
  },
  {
   "cell_type": "code",
   "execution_count": null,
   "metadata": {},
   "outputs": [],
   "source": []
  }
 ],
 "metadata": {
  "kernelspec": {
   "display_name": "Python 3",
   "language": "python",
   "name": "python3"
  },
  "language_info": {
   "codemirror_mode": {
    "name": "ipython",
    "version": 3
   },
   "file_extension": ".py",
   "mimetype": "text/x-python",
   "name": "python",
   "nbconvert_exporter": "python",
   "pygments_lexer": "ipython3",
   "version": "3.7.2"
  }
 },
 "nbformat": 4,
 "nbformat_minor": 2
}
