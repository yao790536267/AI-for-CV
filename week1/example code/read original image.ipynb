{
 "cells": [
  {
   "cell_type": "code",
   "execution_count": 1,
   "metadata": {},
   "outputs": [],
   "source": [
    "import cv2\n",
    "import numpy as np\n",
    "from matplotlib import pyplot as plt"
   ]
  },
  {
   "cell_type": "code",
   "execution_count": 4,
   "metadata": {},
   "outputs": [],
   "source": [
    "img = cv2.imread('E:/CV/week 1/lenna.jpg')\n",
    "cv2.imshow('lenna',img)\n",
    "key = cv2.waitKey()\n",
    "if key == 27:\n",
    "    cv2.destoryALLWindows()\n",
    "    "
   ]
  },
  {
   "cell_type": "code",
   "execution_count": 5,
   "metadata": {},
   "outputs": [
    {
     "name": "stdout",
     "output_type": "stream",
     "text": [
      "[[[114 134 229]\n",
      "  [113 133 228]\n",
      "  [113 133 228]\n",
      "  ...\n",
      "  [123 135 229]\n",
      "  [137 152 244]\n",
      "  [103 112 209]]\n",
      "\n",
      " [[113 133 228]\n",
      "  [113 133 228]\n",
      "  [113 133 228]\n",
      "  ...\n",
      "  [124 132 225]\n",
      "  [141 149 239]\n",
      "  [109 111 205]]\n",
      "\n",
      " [[113 133 228]\n",
      "  [113 133 228]\n",
      "  [113 133 228]\n",
      "  ...\n",
      "  [106 107 197]\n",
      "  [111 107 196]\n",
      "  [ 87  73 161]]\n",
      "\n",
      " ...\n",
      "\n",
      " [[ 65  28  84]\n",
      "  [ 65  29  89]\n",
      "  [ 65  29  95]\n",
      "  ...\n",
      "  [ 74  51 126]\n",
      "  [ 77  58 139]\n",
      "  [ 78  61 152]]\n",
      "\n",
      " [[ 60  25  81]\n",
      "  [ 59  25  85]\n",
      "  [ 60  24  90]\n",
      "  ...\n",
      "  [ 77  57 134]\n",
      "  [ 84  66 149]\n",
      "  [ 77  66 159]]\n",
      "\n",
      " [[ 54  25  81]\n",
      "  [ 60  30  89]\n",
      "  [ 61  27  92]\n",
      "  ...\n",
      "  [ 89  71 154]\n",
      "  [ 91  76 167]\n",
      "  [ 85  74 176]]]\n"
     ]
    }
   ],
   "source": [
    "print(img)"
   ]
  },
  {
   "cell_type": "code",
   "execution_count": 6,
   "metadata": {},
   "outputs": [
    {
     "name": "stdout",
     "output_type": "stream",
     "text": [
      "uint8\n"
     ]
    }
   ],
   "source": [
    "print(img.dtype)"
   ]
  },
  {
   "cell_type": "code",
   "execution_count": 7,
   "metadata": {},
   "outputs": [
    {
     "name": "stdout",
     "output_type": "stream",
     "text": [
      "(225, 225, 3)\n"
     ]
    }
   ],
   "source": [
    "print(img.shape)"
   ]
  },
  {
   "cell_type": "code",
   "execution_count": null,
   "metadata": {},
   "outputs": [],
   "source": []
  }
 ],
 "metadata": {
  "kernelspec": {
   "display_name": "Python 3",
   "language": "python",
   "name": "python3"
  },
  "language_info": {
   "codemirror_mode": {
    "name": "ipython",
    "version": 3
   },
   "file_extension": ".py",
   "mimetype": "text/x-python",
   "name": "python",
   "nbconvert_exporter": "python",
   "pygments_lexer": "ipython3",
   "version": "3.7.2"
  }
 },
 "nbformat": 4,
 "nbformat_minor": 2
}
