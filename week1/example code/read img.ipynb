{
 "cells": [
  {
   "cell_type": "code",
   "execution_count": 2,
   "metadata": {},
   "outputs": [
    {
     "name": "stdout",
     "output_type": "stream",
     "text": [
      "[[160 159 159 ... 162 178 140]\n",
      " [159 159 159 ... 159 175 139]\n",
      " [159 159 159 ... 134 134 101]\n",
      " ...\n",
      " [ 49  51  53 ...  76  84  90]\n",
      " [ 46  47  48 ...  82  93  95]\n",
      " [ 45  51  50 ...  98 105 106]]\n"
     ]
    }
   ],
   "source": [
    "import cv2\n",
    "import numpy as np\n",
    "from matplotlib import pyplot as plt\n",
    "\n",
    "img_gray = cv2.imread('E:\\CV\\week 1\\lenna.jpg',0)\n",
    "cv2.imshow('lenna',img_gray)\n",
    "\n",
    "key = cv2.waitKey()\n",
    "if key == 27:\n",
    "    cv2.destroyAllWindows()\n",
    "print(img_gray)"
   ]
  },
  {
   "cell_type": "code",
   "execution_count": 3,
   "metadata": {},
   "outputs": [
    {
     "name": "stdout",
     "output_type": "stream",
     "text": [
      "uint8\n"
     ]
    }
   ],
   "source": [
    "print(img_gray.dtype)"
   ]
  },
  {
   "cell_type": "code",
   "execution_count": 4,
   "metadata": {},
   "outputs": [
    {
     "name": "stdout",
     "output_type": "stream",
     "text": [
      "[[160 159 159 ... 162 178 140]\n",
      " [159 159 159 ... 159 175 139]\n",
      " [159 159 159 ... 134 134 101]\n",
      " ...\n",
      " [ 49  51  53 ...  76  84  90]\n",
      " [ 46  47  48 ...  82  93  95]\n",
      " [ 45  51  50 ...  98 105 106]]\n"
     ]
    }
   ],
   "source": [
    "print(img_gray)"
   ]
  },
  {
   "cell_type": "code",
   "execution_count": 5,
   "metadata": {},
   "outputs": [
    {
     "name": "stdout",
     "output_type": "stream",
     "text": [
      "(225, 225)\n"
     ]
    }
   ],
   "source": [
    "print(img_gray.shape)"
   ]
  },
  {
   "cell_type": "code",
   "execution_count": null,
   "metadata": {},
   "outputs": [],
   "source": []
  }
 ],
 "metadata": {
  "kernelspec": {
   "display_name": "Python 3",
   "language": "python",
   "name": "python3"
  },
  "language_info": {
   "codemirror_mode": {
    "name": "ipython",
    "version": 3
   },
   "file_extension": ".py",
   "mimetype": "text/x-python",
   "name": "python",
   "nbconvert_exporter": "python",
   "pygments_lexer": "ipython3",
   "version": "3.7.2"
  }
 },
 "nbformat": 4,
 "nbformat_minor": 2
}
