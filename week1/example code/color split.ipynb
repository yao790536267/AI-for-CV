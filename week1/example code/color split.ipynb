{
 "cells": [
  {
   "cell_type": "code",
   "execution_count": 1,
   "metadata": {},
   "outputs": [],
   "source": [
    "import cv2\n",
    "from matplotlib import pyplot as plt\n",
    "\n",
    "img = cv2.imread('E:/CV/week 1/lenna.jpg')\n",
    "\n",
    "B, G, R = cv2.split(img)\n",
    "\n",
    "cv2.imshow('blue channel',B)\n",
    "cv2.imshow('green channel',G)\n",
    "cv2.imshow('red channel',R)\n",
    "\n",
    "key = cv2.waitKey()\n",
    "if key == 27:\n",
    "    cv2.destroyALLWindows\n",
    "    "
   ]
  },
  {
   "cell_type": "code",
   "execution_count": null,
   "metadata": {},
   "outputs": [],
   "source": []
  }
 ],
 "metadata": {
  "kernelspec": {
   "display_name": "Python 3",
   "language": "python",
   "name": "python3"
  },
  "language_info": {
   "codemirror_mode": {
    "name": "ipython",
    "version": 3
   },
   "file_extension": ".py",
   "mimetype": "text/x-python",
   "name": "python",
   "nbconvert_exporter": "python",
   "pygments_lexer": "ipython3",
   "version": "3.7.2"
  }
 },
 "nbformat": 4,
 "nbformat_minor": 2
}
