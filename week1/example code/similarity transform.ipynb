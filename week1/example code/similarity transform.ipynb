{
 "cells": [
  {
   "cell_type": "code",
   "execution_count": 1,
   "metadata": {},
   "outputs": [
    {
     "name": "stdout",
     "output_type": "stream",
     "text": [
      "[[ 0.4330127   0.25       35.66107104]\n",
      " [-0.25        0.4330127  91.91107104]]\n"
     ]
    }
   ],
   "source": [
    "import cv2\n",
    "import matplotlib.pyplot as plt\n",
    "import numpy as np\n",
    "\n",
    "img = cv2.imread('/Users/yaozeming/Downloads/man.png')\n",
    "M = cv2.getRotationMatrix2D((img.shape[1]/2, img.shape[0]/2), 30, 0.5)\n",
    "img_similarity_transform = cv2.warpAffine(img, M, (img.shape[1], img.shape[0]))\n",
    "\n",
    "cv2.imshow('img_similarity_transform', img_similarity_transform)\n",
    "\n",
    "print(M)\n",
    "key = cv2.waitKey(0)\n",
    "if key == 27:\n",
    "    cv2.destroyAllWindows()\n",
    "    key = cv2.waitKey(1)\n"
   ]
  },
  {
   "cell_type": "code",
   "execution_count": null,
   "metadata": {},
   "outputs": [],
   "source": []
  }
 ],
 "metadata": {
  "kernelspec": {
   "display_name": "Python 3",
   "language": "python",
   "name": "python3"
  },
  "language_info": {
   "codemirror_mode": {
    "name": "ipython",
    "version": 3
   },
   "file_extension": ".py",
   "mimetype": "text/x-python",
   "name": "python",
   "nbconvert_exporter": "python",
   "pygments_lexer": "ipython3",
   "version": "3.7.1"
  }
 },
 "nbformat": 4,
 "nbformat_minor": 2
}
