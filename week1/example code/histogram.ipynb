{
 "cells": [
  {
   "cell_type": "code",
   "execution_count": 6,
   "metadata": {},
   "outputs": [
    {
     "data": {
      "image/png": "[encoded data removed]",
      "text/plain": [
       "<Figure size 432x288 with 1 Axes>"
      ]
     },
     "metadata": {
      "needs_background": "light"
     },
     "output_type": "display_data"
    }
   ],
   "source": [
    "import cv2\n",
    "import numpy as np\n",
    "import matplotlib.pyplot as plt\n",
    "\n",
    "img_dark = cv2.imread('E:/CV/week 1/dark_img.jpg')\n",
    "img_small_dark = cv2.resize(img_dark, (int(img_dark.shape[0]*0.5), int(img_dark.shape[1]*0.5))) #图像截取\n",
    "plt.hist(img_dark.flatten(), 256, [0,255], color = 'red') #画出img_dark的直方图\n",
    "img_yuv = cv2.cvtColor(img_small_dark, cv2.COLOR_BGR2YUV) #图像颜色空间转换\n",
    "img_yuv[:,:,0] = cv2.equalizeHist(img_yuv[:,:,0])  \n",
    "img_output = cv2.cvtColor(img_yuv, cv2.COLOR_YUV2BGR) ## y: luminance(明亮度), u&v: 色度饱和度\n",
    "\n",
    "cv2.imshow('img_dark',img_dark)\n",
    "cv2.imshow('img_output',img_output)\n",
    "\n",
    "key = cv2.waitKey\n",
    "if key == 27:\n",
    "    cv2.destroyALLWindows()\n",
    "\n",
    "\n"
   ]
  },
  {
   "cell_type": "code",
   "execution_count": null,
   "metadata": {},
   "outputs": [],
   "source": []
  }
 ],
 "metadata": {
  "kernelspec": {
   "display_name": "Python 3",
   "language": "python",
   "name": "python3"
  },
  "language_info": {
   "codemirror_mode": {
    "name": "ipython",
    "version": 3
   },
   "file_extension": ".py",
   "mimetype": "text/x-python",
   "name": "python",
   "nbconvert_exporter": "python",
   "pygments_lexer": "ipython3",
   "version": "3.7.2"
  }
 },
 "nbformat": 4,
 "nbformat_minor": 2
}
