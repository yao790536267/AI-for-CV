{
 "cells": [
  {
   "cell_type": "markdown",
   "metadata": {},
   "source": [
    "# Assignments"
   ]
  },
  {
   "cell_type": "markdown",
   "metadata": {},
   "source": [
    "1.Recode all examples\n",
    "\n",
    "2.Please change image color through YUV space\n",
    "\n",
    "3.Combine image crop, color shift, rotation and perspective transform together to complete a data aumentation script\n",
    "\n",
    "4.Do think about your own interests very carefully and choose your topic within 4 weeks"
   ]
  },
  {
   "cell_type": "markdown",
   "metadata": {},
   "source": [
    "### 1.Recode the examples\n",
    "### 2.Please change image color through YUV space"
   ]
  },
  {
   "cell_type": "markdown",
   "metadata": {},
   "source": [
    "#### 工具包导入"
   ]
  },
  {
   "cell_type": "code",
   "execution_count": null,
   "metadata": {},
   "outputs": [],
   "source": [
    "import cv2\n",
    "import random\n",
    "import numpy as np\n",
    "from matplotlib import pyplot as plt\n",
    "%matplotlib inline"
   ]
  },
  {
   "cell_type": "markdown",
   "metadata": {},
   "source": [
    "#### 灰度图导入/输出"
   ]
  },
  {
   "cell_type": "code",
   "execution_count": null,
   "metadata": {},
   "outputs": [],
   "source": [
    "#最后的flag表示颜色加载类型，0就是灰度返回，1就是原图返回;图片存于中文路径有报错风险\n",
    "img_gray = cv2.imread('lenna.jpg',0)"
   ]
  },
  {
   "cell_type": "code",
   "execution_count": 3,
   "metadata": {},
   "outputs": [],
   "source": [
    "cv2.imshow('lenna_gray',img_gray)\n",
    "#等用户按下esc(代号27)，则关闭所有窗口\n",
    "key = cv2.waitKey()\n",
    "if key == 27:\n",
    "    cv2.destroyAllWindows()\n",
    "    cv2.waitKey(1)"
   ]
  },
  {
   "cell_type": "code",
   "execution_count": 4,
   "metadata": {
    "scrolled": false
   },
   "outputs": [
    {
     "name": "stdout",
     "output_type": "stream",
     "text": [
      "[[162 161 160 ... 171 156 133]\n",
      " [162 162 161 ... 169 155 133]\n",
      " [163 162 161 ... 168 154 135]\n",
      " ...\n",
      " [ 42  47  52 ... 101 100  99]\n",
      " [ 42  47  52 ... 103 103 104]\n",
      " [ 42  47  52 ... 103 105 106]] uint8 (500, 500)\n"
     ]
    }
   ],
   "source": [
    "#Cpp中数据类型就是uchar了\n",
    "print(img_gray,img_gray.dtype,img_gray.shape)"
   ]
  },
  {
   "cell_type": "markdown",
   "metadata": {},
   "source": [
    "#### 原图导入/输出"
   ]
  },
  {
   "cell_type": "code",
   "execution_count": null,
   "metadata": {},
   "outputs": [],
   "source": [
    "img = cv2.imread('lenna.jpg',1)\n",
    "cv2.imshow('lenna',img)\n",
    "key = cv2.waitKey()\n",
    "if key == 27:\n",
    "    cv2.destroyAllWindows()\n",
    "    cv2.waitKey(1)"
   ]
  },
  {
   "cell_type": "code",
   "execution_count": 8,
   "metadata": {
    "scrolled": true
   },
   "outputs": [
    {
     "name": "stdout",
     "output_type": "stream",
     "text": [
      "[[[125 137 225]\n",
      "  [124 136 224]\n",
      "  [123 135 223]\n",
      "  ...\n",
      "  [118 144 244]\n",
      "  [103 129 229]\n",
      "  [ 80 106 206]]\n",
      "\n",
      " [[125 137 225]\n",
      "  [125 137 225]\n",
      "  [124 136 224]\n",
      "  ...\n",
      "  [119 142 241]\n",
      "  [105 128 227]\n",
      "  [ 83 106 205]]\n",
      "\n",
      " [[124 138 227]\n",
      "  [123 137 226]\n",
      "  [122 136 225]\n",
      "  ...\n",
      "  [124 142 237]\n",
      "  [111 127 223]\n",
      "  [ 92 108 204]]\n",
      "\n",
      " ...\n",
      "\n",
      " [[ 60  19  80]\n",
      "  [ 63  25  85]\n",
      "  [ 64  30  91]\n",
      "  ...\n",
      "  [ 82  66 178]\n",
      "  [ 81  65 177]\n",
      "  [ 80  64 176]]\n",
      "\n",
      " [[ 60  19  80]\n",
      "  [ 63  25  85]\n",
      "  [ 64  30  91]\n",
      "  ...\n",
      "  [ 82  68 180]\n",
      "  [ 82  68 180]\n",
      "  [ 83  69 181]]\n",
      "\n",
      " [[ 60  19  80]\n",
      "  [ 63  25  85]\n",
      "  [ 64  30  91]\n",
      "  ...\n",
      "  [ 82  68 180]\n",
      "  [ 84  70 182]\n",
      "  [ 85  71 183]]]\n"
     ]
    }
   ],
   "source": [
    "print(img)"
   ]
  },
  {
   "cell_type": "code",
   "execution_count": 9,
   "metadata": {
    "scrolled": false
   },
   "outputs": [
    {
     "name": "stdout",
     "output_type": "stream",
     "text": [
      "uint8 (500, 500, 3)\n"
     ]
    }
   ],
   "source": [
    "print(img.dtype,img.shape)#height,width,channel"
   ]
  },
  {
   "cell_type": "markdown",
   "metadata": {},
   "source": [
    "#### Image Crop"
   ]
  },
  {
   "cell_type": "code",
   "execution_count": 5,
   "metadata": {},
   "outputs": [],
   "source": [
    "img_crop = img[0:100,0:200]\n",
    "cv2.imshow('lenna_crop',img_crop)\n",
    "key = cv2.waitKey()\n",
    "if key == 27:\n",
    "    cv2.destroyAllWindows()\n",
    "    cv2.waitKey(1)"
   ]
  },
  {
   "cell_type": "markdown",
   "metadata": {},
   "source": [
    "#### Color Split"
   ]
  },
  {
   "cell_type": "code",
   "execution_count": 10,
   "metadata": {},
   "outputs": [],
   "source": [
    "B,G,R = cv2.split(img)\n",
    "cv2.imshow('B',B)\n",
    "cv2.imshow('G',G)\n",
    "cv2.imshow('R',R)\n",
    "key = cv2.waitKey()\n",
    "if key == 27:\n",
    "    cv2.destroyAllWindows()\n",
    "    cv2.waitKey(1)"
   ]
  },
  {
   "cell_type": "markdown",
   "metadata": {},
   "source": [
    "#### Change color"
   ]
  },
  {
   "cell_type": "code",
   "execution_count": 11,
   "metadata": {},
   "outputs": [],
   "source": [
    "def random_light_color(img):\n",
    "    B,G,R = cv2.split(img)\n",
    "    #蓝色灰度矩阵整体偏移，＞255取255，<0就取0\n",
    "    b_rand = random.randint(-50,50)\n",
    "    if b_rand == 0:\n",
    "        pass\n",
    "    elif b_rand > 0:\n",
    "        lim = 255 - b_rand\n",
    "        B[B > lim] = 255\n",
    "        B[B <= lim] = (b_rand + B[B <= lim]).astype(img.dtype)\n",
    "    elif b_rand < 0:\n",
    "        lim = 0 - b_rand\n",
    "        B[B < lim] = 0\n",
    "        B[B >= lim] = (b_rand + B[B >= lim]).astype(img.dtype)\n",
    "    #绿色灰度矩阵整体偏移，＞255取255，<0就取0\n",
    "    g_rand = random.randint(-50,50)\n",
    "    if g_rand == 0:\n",
    "        pass\n",
    "    elif g_rand > 0:\n",
    "        lim = 255 - g_rand\n",
    "        G[G > lim] = 255\n",
    "        G[G <= lim] = (g_rand + G[G <= lim]).astype(img.dtype)\n",
    "    elif g_rand < 0:\n",
    "        lim = 0 - g_rand\n",
    "        G[G < lim] = 0\n",
    "        G[G >= lim] = (g_rand + G[G >= lim]).astype(img.dtype)\n",
    "    #红色灰度矩阵整体偏移，＞255取255，<0就取0\n",
    "    r_rand = random.randint(-50,50)\n",
    "    if r_rand == 0:\n",
    "        pass\n",
    "    elif r_rand > 0:\n",
    "        lim = 255 - r_rand\n",
    "        R[R > lim] = 255\n",
    "        R[R <= lim] = (r_rand + R[R <= lim]).astype(img.dtype)\n",
    "    elif r_rand < 0:\n",
    "        lim = 0 - r_rand\n",
    "        R[R < lim] = 0\n",
    "        R[R >= lim] = (r_rand + R[R >= lim]).astype(img.dtype)\n",
    "    img_merge = cv2.merge((B,G,R))\n",
    "    return img_merge"
   ]
  },
  {
   "cell_type": "code",
   "execution_count": 12,
   "metadata": {},
   "outputs": [],
   "source": [
    "img_random_color = random_light_color(img)\n",
    "cv2.imshow('img_random_color',img_random_color)\n",
    "key = cv2.waitKey()\n",
    "if key == 27:\n",
    "    cv2.destroyAllWindows()\n",
    "    cv2.waitKey(1)"
   ]
  },
  {
   "cell_type": "markdown",
   "metadata": {},
   "source": [
    "#### gamma correction"
   ]
  },
  {
   "cell_type": "code",
   "execution_count": 13,
   "metadata": {},
   "outputs": [],
   "source": [
    "img_bright = cv2.imread('brighter.jpg')\n",
    "cv2.imshow('brighter',img_bright)\n",
    "key = cv2.waitKey()\n",
    "if key == 27:\n",
    "    cv2.destroyAllWindows()\n",
    "    cv2.waitKey(1)"
   ]
  },
  {
   "cell_type": "code",
   "execution_count": 15,
   "metadata": {},
   "outputs": [],
   "source": [
    "def adjust_gamma(image,gamma = 1.0):\n",
    "    invGamma = 1.0/gamma\n",
    "    table = []\n",
    "    for i in range(256):\n",
    "        table.append((i/255)**invGamma * 255)\n",
    "    table = np.array(table).astype('uint8')\n",
    "    return cv2.LUT(image,table)\n",
    "#这里只找到一张很亮的素材，所以跟课程相反，我把它调暗了\n",
    "img_dark = adjust_gamma(img_bright,0.5)\n",
    "cv2.imshow('image_bright',img_bright)\n",
    "cv2.imshow('image_dark',img_dark)\n",
    "key = cv2.waitKey()\n",
    "if key == 27:\n",
    "    cv2.destroyAllWindows()\n",
    "    cv2.waitKey(1)"
   ]
  },
  {
   "cell_type": "markdown",
   "metadata": {},
   "source": [
    "#### histogram"
   ]
  },
  {
   "cell_type": "code",
   "execution_count": 16,
   "metadata": {
    "scrolled": true
   },
   "outputs": [
    {
     "data": {
      "text/plain": [
       "(array([8.000e+00, 3.600e+01, 3.940e+02, 7.490e+02, 1.109e+03, 9.250e+02,\n",
       "        1.164e+03, 1.275e+03, 1.195e+03, 1.092e+03, 1.263e+03, 1.452e+03,\n",
       "        1.520e+03, 1.525e+03, 1.535e+03, 1.710e+03, 1.874e+03, 1.868e+03,\n",
       "        2.043e+03, 2.048e+03, 2.102e+03, 2.220e+03, 2.487e+03, 2.462e+03,\n",
       "        2.583e+03, 2.474e+03, 2.349e+03, 2.144e+03, 1.753e+03, 1.607e+03,\n",
       "        1.401e+03, 1.304e+03, 1.151e+03, 9.930e+02, 9.180e+02, 8.820e+02,\n",
       "        9.130e+02, 8.800e+02, 8.860e+02, 8.850e+02, 8.150e+02, 7.520e+02,\n",
       "        8.250e+02, 8.280e+02, 8.780e+02, 9.130e+02, 9.000e+02, 8.580e+02,\n",
       "        9.020e+02, 8.060e+02, 7.930e+02, 7.850e+02, 8.010e+02, 7.960e+02,\n",
       "        8.550e+02, 9.040e+02, 9.010e+02, 9.050e+02, 9.370e+02, 9.040e+02,\n",
       "        9.260e+02, 9.220e+02, 8.280e+02, 8.710e+02, 9.710e+02, 9.730e+02,\n",
       "        1.097e+03, 1.080e+03, 9.780e+02, 9.550e+02, 9.110e+02, 9.260e+02,\n",
       "        9.230e+02, 9.870e+02, 9.840e+02, 9.920e+02, 9.970e+02, 1.026e+03,\n",
       "        9.740e+02, 1.041e+03, 1.049e+03, 1.015e+03, 1.026e+03, 9.810e+02,\n",
       "        9.560e+02, 9.810e+02, 9.870e+02, 1.013e+03, 9.930e+02, 1.044e+03,\n",
       "        9.910e+02, 1.000e+03, 8.620e+02, 9.120e+02, 9.030e+02, 9.530e+02,\n",
       "        8.700e+02, 8.460e+02, 9.050e+02, 8.650e+02, 8.650e+02, 9.160e+02,\n",
       "        8.860e+02, 9.720e+02, 9.930e+02, 9.700e+02, 1.046e+03, 1.022e+03,\n",
       "        1.100e+03, 1.018e+03, 1.098e+03, 1.134e+03, 1.113e+03, 1.247e+03,\n",
       "        1.195e+03, 1.163e+03, 1.199e+03, 1.223e+03, 1.245e+03, 1.201e+03,\n",
       "        1.286e+03, 1.313e+03, 1.222e+03, 1.196e+03, 1.238e+03, 1.261e+03,\n",
       "        1.270e+03, 1.277e+03, 1.172e+03, 1.207e+03, 1.114e+03, 1.092e+03,\n",
       "        1.095e+03, 1.012e+03, 9.760e+02, 1.010e+03, 9.090e+02, 9.210e+02,\n",
       "        8.100e+02, 8.750e+02, 8.510e+02, 7.990e+02, 7.650e+02, 7.300e+02,\n",
       "        6.530e+02, 7.250e+02, 6.170e+02, 6.060e+02, 5.920e+02, 5.810e+02,\n",
       "        5.290e+02, 5.100e+02, 5.010e+02, 4.580e+02, 4.330e+02, 4.650e+02,\n",
       "        4.670e+02, 4.580e+02, 4.220e+02, 3.940e+02, 4.760e+02, 5.270e+02,\n",
       "        5.610e+02, 5.340e+02, 5.410e+02, 5.680e+02, 6.070e+02, 6.070e+02,\n",
       "        5.880e+02, 5.330e+02, 6.040e+02, 6.250e+02, 6.100e+02, 6.440e+02,\n",
       "        7.200e+02, 7.600e+02, 8.500e+02, 7.080e+02, 5.830e+02, 6.700e+02,\n",
       "        5.920e+02, 5.140e+02, 4.660e+02, 4.800e+02, 4.480e+02, 3.320e+02,\n",
       "        3.490e+02, 2.610e+02, 3.080e+02, 2.390e+02, 2.190e+02, 2.150e+02,\n",
       "        2.210e+02, 2.350e+02, 2.570e+02, 2.720e+02, 2.390e+02, 2.750e+02,\n",
       "        2.490e+02, 2.660e+02, 2.750e+02, 3.020e+02, 2.830e+02, 3.370e+02,\n",
       "        3.220e+02, 2.970e+02, 3.340e+02, 3.420e+02, 3.570e+02, 3.310e+02,\n",
       "        3.050e+02, 2.750e+02, 2.660e+02, 2.410e+02, 1.780e+02, 1.720e+02,\n",
       "        2.000e+02, 2.050e+02, 2.490e+02, 1.930e+02, 1.860e+02, 1.480e+02,\n",
       "        1.300e+02, 1.050e+02, 1.080e+02, 9.900e+01, 7.700e+01, 6.900e+01,\n",
       "        5.300e+01, 6.400e+01, 3.900e+01, 5.100e+01, 3.800e+01, 3.900e+01,\n",
       "        4.200e+01, 5.000e+01, 3.800e+01, 2.700e+01, 3.000e+01, 2.200e+01,\n",
       "        1.900e+01, 1.700e+01, 1.200e+01, 6.000e+00, 4.000e+00, 1.000e+00,\n",
       "        0.000e+00, 0.000e+00, 0.000e+00, 0.000e+00, 0.000e+00, 0.000e+00,\n",
       "        0.000e+00, 0.000e+00, 0.000e+00, 0.000e+00]),\n",
       " array([  0.,   1.,   2.,   3.,   4.,   5.,   6.,   7.,   8.,   9.,  10.,\n",
       "         11.,  12.,  13.,  14.,  15.,  16.,  17.,  18.,  19.,  20.,  21.,\n",
       "         22.,  23.,  24.,  25.,  26.,  27.,  28.,  29.,  30.,  31.,  32.,\n",
       "         33.,  34.,  35.,  36.,  37.,  38.,  39.,  40.,  41.,  42.,  43.,\n",
       "         44.,  45.,  46.,  47.,  48.,  49.,  50.,  51.,  52.,  53.,  54.,\n",
       "         55.,  56.,  57.,  58.,  59.,  60.,  61.,  62.,  63.,  64.,  65.,\n",
       "         66.,  67.,  68.,  69.,  70.,  71.,  72.,  73.,  74.,  75.,  76.,\n",
       "         77.,  78.,  79.,  80.,  81.,  82.,  83.,  84.,  85.,  86.,  87.,\n",
       "         88.,  89.,  90.,  91.,  92.,  93.,  94.,  95.,  96.,  97.,  98.,\n",
       "         99., 100., 101., 102., 103., 104., 105., 106., 107., 108., 109.,\n",
       "        110., 111., 112., 113., 114., 115., 116., 117., 118., 119., 120.,\n",
       "        121., 122., 123., 124., 125., 126., 127., 128., 129., 130., 131.,\n",
       "        132., 133., 134., 135., 136., 137., 138., 139., 140., 141., 142.,\n",
       "        143., 144., 145., 146., 147., 148., 149., 150., 151., 152., 153.,\n",
       "        154., 155., 156., 157., 158., 159., 160., 161., 162., 163., 164.,\n",
       "        165., 166., 167., 168., 169., 170., 171., 172., 173., 174., 175.,\n",
       "        176., 177., 178., 179., 180., 181., 182., 183., 184., 185., 186.,\n",
       "        187., 188., 189., 190., 191., 192., 193., 194., 195., 196., 197.,\n",
       "        198., 199., 200., 201., 202., 203., 204., 205., 206., 207., 208.,\n",
       "        209., 210., 211., 212., 213., 214., 215., 216., 217., 218., 219.,\n",
       "        220., 221., 222., 223., 224., 225., 226., 227., 228., 229., 230.,\n",
       "        231., 232., 233., 234., 235., 236., 237., 238., 239., 240., 241.,\n",
       "        242., 243., 244., 245., 246., 247., 248., 249., 250., 251., 252.,\n",
       "        253., 254., 255., 256.]),\n",
       " <a list of 256 Patch objects>)"
      ]
     },
     "execution_count": 16,
     "metadata": {},
     "output_type": "execute_result"
    },
    {
     "data": {
      "image/png": "[encoded data removed]",
      "text/plain": [
       "<Figure size 432x288 with 3 Axes>"
      ]
     },
     "metadata": {
      "needs_background": "light"
     },
     "output_type": "display_data"
    }
   ],
   "source": [
    "img_small_brighter = cv2.resize(img_bright,(int(img_bright.shape[0]*0.5),int(img_bright.shape[1]*0.5)))\n",
    "#蓝色的直方图\n",
    "plt.subplot(3,1,1)\n",
    "plt.hist(img_small_brighter.flatten()[:img_small_brighter.size//3],256,[0,256],color = 'b')\n",
    "#绿色的直方图\n",
    "plt.subplot(3,1,2)\n",
    "plt.hist(img_small_brighter.flatten()[img_small_brighter.size//3:-img_small_brighter.size//3],256,[0,256],color = 'g')\n",
    "#红色的直方图\n",
    "plt.subplot(3,1,3)\n",
    "plt.hist(img_small_brighter.flatten()[-img_small_brighter.size//3:],256,[0,256],color = 'r')\n"
   ]
  },
  {
   "cell_type": "markdown",
   "metadata": {},
   "source": [
    "### change image color through YUV space"
   ]
  },
  {
   "cell_type": "code",
   "execution_count": 17,
   "metadata": {},
   "outputs": [],
   "source": [
    "#将BGR转换到YUV空间\n",
    "img_yuv = cv2.cvtColor(img_small_brighter,cv2.COLOR_BGR2YUV)\n",
    "#对Y(明亮程度)进行均衡\n",
    "img_yuv_equalY = img_yuv.copy()\n",
    "img_yuv_equalY[:,:,0] = cv2.equalizeHist(img_yuv_equalY[:,:,0])\n",
    "#对U进行均衡\n",
    "img_yuv_equalU = img_yuv.copy()\n",
    "img_yuv_equalU[:,:,1] = cv2.equalizeHist(img_yuv_equalU[:,:,1])\n",
    "#对V进行均衡\n",
    "img_yuv_equalV = img_yuv.copy()\n",
    "img_yuv_equalV[:,:,2] = cv2.equalizeHist(img_yuv_equalV[:,:,2])\n",
    "#YUV空间的值重新计算BGR\n",
    "img_bgr_equalY = cv2.cvtColor(img_yuv_equalY,cv2.COLOR_YUV2BGR)\n",
    "img_bgr_equalU = cv2.cvtColor(img_yuv_equalU,cv2.COLOR_YUV2BGR)\n",
    "img_bgr_equalV = cv2.cvtColor(img_yuv_equalV,cv2.COLOR_YUV2BGR)\n",
    "#打印原图，均衡Y,均衡U,均衡V的图\n",
    "cv2.imshow('img_small_brighter',img_small_brighter)\n",
    "cv2.imshow('img_bgr_equalY',img_bgr_equalY)\n",
    "cv2.imshow('img_bgr_equalU',img_bgr_equalU)\n",
    "cv2.imshow('img_bgr_equalV',img_bgr_equalV)\n",
    "key = cv2.waitKey()\n",
    "if key == 27:\n",
    "    cv2.destroyAllWindows()\n",
    "    cv2.waitKey(1)"
   ]
  },
  {
   "cell_type": "markdown",
   "metadata": {},
   "source": [
    "### Rotation"
   ]
  },
  {
   "cell_type": "code",
   "execution_count": 18,
   "metadata": {},
   "outputs": [],
   "source": [
    "#图像中心旋转\n",
    "#旋转中心，旋转角度，缩放倍数,要注意h,w,c，高度h对应的是坐标y\n",
    "M = cv2.getRotationMatrix2D((img.shape[1]/2,img.shape[0]/2),30,1)\n",
    "img_rotate = cv2.warpAffine(img,M,(img.shape[1],img.shape[0]))\n",
    "cv2.imshow('img_rotate',img_rotate)\n",
    "key = cv2.waitKey()\n",
    "if key == 27:\n",
    "    cv2.destroyAllWindows()\n",
    "    cv2.waitKey(1)"
   ]
  },
  {
   "cell_type": "code",
   "execution_count": 21,
   "metadata": {
    "scrolled": true
   },
   "outputs": [
    {
     "name": "stdout",
     "output_type": "stream",
     "text": [
      "[[  0.8660254    0.5        -91.50635095]\n",
      " [ -0.5          0.8660254  158.49364905]]\n"
     ]
    }
   ],
   "source": [
    "print(M)"
   ]
  },
  {
   "cell_type": "code",
   "execution_count": 19,
   "metadata": {},
   "outputs": [
    {
     "name": "stdout",
     "output_type": "stream",
     "text": [
      "[[ 0.8660254  0.5        0.       ]\n",
      " [-0.5        0.8660254  0.       ]]\n"
     ]
    }
   ],
   "source": [
    "#去除平移\n",
    "M[0][2] = M[1][2] = 0\n",
    "print(M)"
   ]
  },
  {
   "cell_type": "code",
   "execution_count": 20,
   "metadata": {},
   "outputs": [],
   "source": [
    "#不平移的旋转，以左上角为中心原点进行了旋转\n",
    "img_rotate2 = cv2.warpAffine(img,M,(img.shape[1],img.shape[0]))\n",
    "cv2.imshow('img_rotate2',img_rotate2)\n",
    "key = cv2.waitKey()\n",
    "if key == 27:\n",
    "    cv2.destroyAllWindows()\n",
    "    cv2.waitKey(1)"
   ]
  },
  {
   "cell_type": "markdown",
   "metadata": {},
   "source": [
    "#### Similarity Transform"
   ]
  },
  {
   "cell_type": "code",
   "execution_count": 12,
   "metadata": {},
   "outputs": [],
   "source": [
    "#旋转中心，旋转角度，缩放倍数\n",
    "M = cv2.getRotationMatrix2D((img.shape[1]/2,img.shape[0]/2),30,0.5)\n",
    "img_rotate3 = cv2.warpAffine(img,M,(img.shape[1],img.shape[0]))\n",
    "cv2.imshow('img_rotate3',img_rotate3)\n",
    "key = cv2.waitKey()\n",
    "if key == 27:\n",
    "    cv2.destroyAllWindows()\n",
    "    cv2.waitKey(1)"
   ]
  },
  {
   "cell_type": "code",
   "execution_count": 25,
   "metadata": {
    "scrolled": true
   },
   "outputs": [
    {
     "name": "stdout",
     "output_type": "stream",
     "text": [
      "[[  0.4330127    0.25        79.24682453]\n",
      " [ -0.25         0.4330127  204.24682453]]\n"
     ]
    }
   ],
   "source": [
    "print(M)"
   ]
  },
  {
   "cell_type": "markdown",
   "metadata": {},
   "source": [
    "#### Affine Transform"
   ]
  },
  {
   "cell_type": "code",
   "execution_count": 13,
   "metadata": {},
   "outputs": [],
   "source": [
    "rows,cols,ch = img.shape\n",
    "# 仿射变换是图像基于3个固定顶点的变换, 在变换先后固定顶点的像素值不变，图像整体则根据变换规则进行变换\n",
    "#变换前不共线的三个点和变换后不共线的三个点\n",
    "pts1 = np.float32([[0,0],[cols - 1,0],[0,rows - 1]])\n",
    "pts2 = np.float32([[cols * 0.2,rows * 0.1],[cols * 0.9,rows * 0.2],[cols * 0.1,rows * 0.6]])\n",
    "M = cv2.getAffineTransform(pts1,pts2)\n",
    "img_affine = cv2.warpAffine(img,M,(img.shape[1],img.shape[0]))\n",
    "cv2.imshow('img_affine',img_affine)\n",
    "key = cv2.waitKey()\n",
    "if key == 27:\n",
    "    cv2.destroyAllWindows()\n",
    "    cv2.waitKey(1)"
   ]
  },
  {
   "cell_type": "code",
   "execution_count": 27,
   "metadata": {
    "scrolled": true
   },
   "outputs": [
    {
     "name": "stdout",
     "output_type": "stream",
     "text": [
      "[[  0.70140281  -0.1002004  100.        ]\n",
      " [  0.1002004    0.501002    50.        ]]\n"
     ]
    }
   ],
   "source": [
    "print(M)"
   ]
  },
  {
   "cell_type": "markdown",
   "metadata": {},
   "source": [
    "#### Perspective Transform"
   ]
  },
  {
   "cell_type": "code",
   "execution_count": null,
   "metadata": {},
   "outputs": [],
   "source": [
    "# 透视变换是图像基于4个固定顶点的变换\n",
    "def random_warp(img,row,col,random_margin = 60):\n",
    "    height,width,channel = img.shape\n",
    "    #原图4个不共线点\n",
    "    x1 = random.randint(-random_margin,random_margin)\n",
    "    y1 = random.randint(-random_margin,random_margin)\n",
    "    x2 = random.randint(width - random_margin - 1,width - 1)\n",
    "    y2 = random.randint(-random_margin,random_margin)\n",
    "    x3 = random.randint(width - random_margin - 1,width - 1)\n",
    "    y3 = random.randint(height - random_margin - 1,height - 1)\n",
    "    x4 = random.randint(-random_margin,random_margin)\n",
    "    y4 = random.randint(height - random_margin - 1,height - 1)\n",
    "    #目标图4个不共线点\n",
    "    dx1 = random.randint(-random_margin,random_margin)\n",
    "    dy1 = random.randint(-random_margin,random_margin)\n",
    "    dx2 = random.randint(width - random_margin - 1,width - 1)\n",
    "    dy2 = random.randint(-random_margin,random_margin)\n",
    "    dx3 = random.randint(width - random_margin - 1,width - 1)\n",
    "    dy3 = random.randint(height - random_margin - 1,height - 1)\n",
    "    dx4 = random.randint(-random_margin,random_margin)\n",
    "    dy4 = random.randint(height - random_margin - 1,height - 1)\n",
    "    \n",
    "    pst1 = np.float32([[x1,y1],[x2,y2],[x3,y3],[x4,y4]])\n",
    "    pst2 = np.float32([[dx1,dy1],[dx2,dy2],[dx3,dy3],[dx4,dy4]])\n",
    "    M_warp = cv2.getPerspectiveTransform(pst1,pst2)\n",
    "    img_warp = cv2.warpPerspective(img,M_warp,(width,height))\n",
    "    return M_warp,img_warp"
   ]
  },
  {
   "cell_type": "code",
   "execution_count": null,
   "metadata": {
    "scrolled": true
   },
   "outputs": [],
   "source": [
    "M_warp,img_warp = random_warp(img,img.shape[0],img.shape[1])\n",
    "cv2.imshow('img_warp',img_warp)\n",
    "key = cv2.waitKey()\n",
    "if key == 27:\n",
    "    cv2.destroyAllWindows()\n",
    "    cv2.waitKey(1)"
   ]
  },
  {
   "cell_type": "markdown",
   "metadata": {},
   "source": [
    "### 3.Combine image crop, color shift, rotation and perspective transform together to complete a data aumentation script\n",
    "另附python脚本"
   ]
  },
  {
   "cell_type": "markdown",
   "metadata": {},
   "source": [
    "### 4.Do think about your own interests very carefully and choose your topic within 4 weeks\n",
    "目前对Face Detection/Recognition、Object Detection、Super Resolution、Reflection Removal比较感兴趣，近两周再详细看看paper。"
   ]
  }
 ],
 "metadata": {
  "kernelspec": {
   "display_name": "Python 3",
   "language": "python",
   "name": "python3"
  },
  "language_info": {
   "codemirror_mode": {
    "name": "ipython",
    "version": 3
   },
   "file_extension": ".py",
   "mimetype": "text/x-python",
   "name": "python",
   "nbconvert_exporter": "python",
   "pygments_lexer": "ipython3",
   "version": "3.7.1"
  }
 },
 "nbformat": 4,
 "nbformat_minor": 2
}
